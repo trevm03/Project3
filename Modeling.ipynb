{
 "cells": [
  {
   "cell_type": "code",
   "execution_count": 10,
   "id": "a294c64e-ed08-4227-90de-7b5222425e71",
   "metadata": {
    "tags": []
   },
   "outputs": [
    {
     "data": {
      "text/html": [
       "<div>\n",
       "<style scoped>\n",
       "    .dataframe tbody tr th:only-of-type {\n",
       "        vertical-align: middle;\n",
       "    }\n",
       "\n",
       "    .dataframe tbody tr th {\n",
       "        vertical-align: top;\n",
       "    }\n",
       "\n",
       "    .dataframe thead th {\n",
       "        text-align: right;\n",
       "    }\n",
       "</style>\n",
       "<table border=\"1\" class=\"dataframe\">\n",
       "  <thead>\n",
       "    <tr style=\"text-align: right;\">\n",
       "      <th></th>\n",
       "      <th>Unnamed: 0</th>\n",
       "      <th>Complaint_No</th>\n",
       "      <th>Property_Crimes</th>\n",
       "      <th>Location_Type</th>\n",
       "      <th>Zipcode</th>\n",
       "      <th>Property_No</th>\n",
       "      <th>Property_type</th>\n",
       "      <th>Property_Desc</th>\n",
       "      <th>2010 Pop</th>\n",
       "      <th>Median Household Income</th>\n",
       "      <th>DATE</th>\n",
       "      <th>EVENT_TYPE</th>\n",
       "      <th>BEGIN_LAT</th>\n",
       "      <th>BEGIN_LON</th>\n",
       "      <th>END_LAT</th>\n",
       "      <th>END_LON</th>\n",
       "      <th>time_diff</th>\n",
       "      <th>weather_id</th>\n",
       "    </tr>\n",
       "  </thead>\n",
       "  <tbody>\n",
       "    <tr>\n",
       "      <th>0</th>\n",
       "      <td>2732</td>\n",
       "      <td>20120701220002</td>\n",
       "      <td>Shoplifting</td>\n",
       "      <td>Indoors</td>\n",
       "      <td>28216</td>\n",
       "      <td>1.0</td>\n",
       "      <td>Alcoholic Beverage</td>\n",
       "      <td>Consumable Goods</td>\n",
       "      <td>47227</td>\n",
       "      <td>53462.0</td>\n",
       "      <td>2012-07-01</td>\n",
       "      <td>Hail</td>\n",
       "      <td>35.133333</td>\n",
       "      <td>-80.740767</td>\n",
       "      <td>35.133333</td>\n",
       "      <td>-80.740767</td>\n",
       "      <td>0 days 00:16:00</td>\n",
       "      <td>30.0</td>\n",
       "    </tr>\n",
       "    <tr>\n",
       "      <th>1</th>\n",
       "      <td>2733</td>\n",
       "      <td>20120701220002</td>\n",
       "      <td>Shoplifting</td>\n",
       "      <td>Indoors</td>\n",
       "      <td>28216</td>\n",
       "      <td>1.0</td>\n",
       "      <td>Alcoholic Beverage</td>\n",
       "      <td>Consumable Goods</td>\n",
       "      <td>47227</td>\n",
       "      <td>53462.0</td>\n",
       "      <td>2012-07-01</td>\n",
       "      <td>Lightning</td>\n",
       "      <td>35.340000</td>\n",
       "      <td>-80.810000</td>\n",
       "      <td>35.340000</td>\n",
       "      <td>-80.810000</td>\n",
       "      <td>0 days 00:15:00</td>\n",
       "      <td>59.0</td>\n",
       "    </tr>\n",
       "    <tr>\n",
       "      <th>2</th>\n",
       "      <td>2734</td>\n",
       "      <td>20120701220002</td>\n",
       "      <td>Shoplifting</td>\n",
       "      <td>Indoors</td>\n",
       "      <td>28216</td>\n",
       "      <td>1.0</td>\n",
       "      <td>Alcoholic Beverage</td>\n",
       "      <td>Consumable Goods</td>\n",
       "      <td>47227</td>\n",
       "      <td>53462.0</td>\n",
       "      <td>2012-07-01</td>\n",
       "      <td>Thunderstorm Wind</td>\n",
       "      <td>35.320000</td>\n",
       "      <td>-80.800000</td>\n",
       "      <td>35.180000</td>\n",
       "      <td>-80.655000</td>\n",
       "      <td>0 days 00:19:00</td>\n",
       "      <td>82.0</td>\n",
       "    </tr>\n",
       "    <tr>\n",
       "      <th>3</th>\n",
       "      <td>2738</td>\n",
       "      <td>20120701224501</td>\n",
       "      <td>Arson</td>\n",
       "      <td>Indoors</td>\n",
       "      <td>28205</td>\n",
       "      <td>1.0</td>\n",
       "      <td>Dwelling: Multi-Family</td>\n",
       "      <td>Structures</td>\n",
       "      <td>43931</td>\n",
       "      <td>61525.0</td>\n",
       "      <td>2012-07-01</td>\n",
       "      <td>Hail</td>\n",
       "      <td>35.133333</td>\n",
       "      <td>-80.740767</td>\n",
       "      <td>35.133333</td>\n",
       "      <td>-80.740767</td>\n",
       "      <td>0 days 00:16:00</td>\n",
       "      <td>30.0</td>\n",
       "    </tr>\n",
       "    <tr>\n",
       "      <th>4</th>\n",
       "      <td>2739</td>\n",
       "      <td>20120701224501</td>\n",
       "      <td>Arson</td>\n",
       "      <td>Indoors</td>\n",
       "      <td>28205</td>\n",
       "      <td>1.0</td>\n",
       "      <td>Dwelling: Multi-Family</td>\n",
       "      <td>Structures</td>\n",
       "      <td>43931</td>\n",
       "      <td>61525.0</td>\n",
       "      <td>2012-07-01</td>\n",
       "      <td>Lightning</td>\n",
       "      <td>35.340000</td>\n",
       "      <td>-80.810000</td>\n",
       "      <td>35.340000</td>\n",
       "      <td>-80.810000</td>\n",
       "      <td>0 days 00:15:00</td>\n",
       "      <td>59.0</td>\n",
       "    </tr>\n",
       "  </tbody>\n",
       "</table>\n",
       "</div>"
      ],
      "text/plain": [
       "   Unnamed: 0    Complaint_No Property_Crimes Location_Type  Zipcode  \\\n",
       "0        2732  20120701220002     Shoplifting       Indoors    28216   \n",
       "1        2733  20120701220002     Shoplifting       Indoors    28216   \n",
       "2        2734  20120701220002     Shoplifting       Indoors    28216   \n",
       "3        2738  20120701224501           Arson       Indoors    28205   \n",
       "4        2739  20120701224501           Arson       Indoors    28205   \n",
       "\n",
       "   Property_No           Property_type     Property_Desc  2010 Pop  \\\n",
       "0          1.0      Alcoholic Beverage  Consumable Goods     47227   \n",
       "1          1.0      Alcoholic Beverage  Consumable Goods     47227   \n",
       "2          1.0      Alcoholic Beverage  Consumable Goods     47227   \n",
       "3          1.0  Dwelling: Multi-Family        Structures     43931   \n",
       "4          1.0  Dwelling: Multi-Family        Structures     43931   \n",
       "\n",
       "   Median Household Income        DATE         EVENT_TYPE  BEGIN_LAT  \\\n",
       "0                  53462.0  2012-07-01               Hail  35.133333   \n",
       "1                  53462.0  2012-07-01          Lightning  35.340000   \n",
       "2                  53462.0  2012-07-01  Thunderstorm Wind  35.320000   \n",
       "3                  61525.0  2012-07-01               Hail  35.133333   \n",
       "4                  61525.0  2012-07-01          Lightning  35.340000   \n",
       "\n",
       "   BEGIN_LON    END_LAT    END_LON        time_diff  weather_id  \n",
       "0 -80.740767  35.133333 -80.740767  0 days 00:16:00        30.0  \n",
       "1 -80.810000  35.340000 -80.810000  0 days 00:15:00        59.0  \n",
       "2 -80.800000  35.180000 -80.655000  0 days 00:19:00        82.0  \n",
       "3 -80.740767  35.133333 -80.740767  0 days 00:16:00        30.0  \n",
       "4 -80.810000  35.340000 -80.810000  0 days 00:15:00        59.0  "
      ]
     },
     "execution_count": 10,
     "metadata": {},
     "output_type": "execute_result"
    }
   ],
   "source": [
    "import pandas as pd\n",
    "# Read dataset\n",
    "extreme_weather = pd.read_csv('crime_extreme_weather_CLEANED.csv')\n",
    "\n",
    "extreme_weather.head()"
   ]
  },
  {
   "cell_type": "code",
   "execution_count": 11,
   "id": "bfcf9b30-ef58-4bdd-91ea-1d38ed5be13a",
   "metadata": {
    "tags": []
   },
   "outputs": [
    {
     "name": "stdout",
     "output_type": "stream",
     "text": [
      "  Property_Crimes           Property_type         EVENT_TYPE Location_Type  \\\n",
      "0     Shoplifting      Alcoholic Beverage               Hail       Indoors   \n",
      "1     Shoplifting      Alcoholic Beverage          Lightning       Indoors   \n",
      "2     Shoplifting      Alcoholic Beverage  Thunderstorm Wind       Indoors   \n",
      "3           Arson  Dwelling: Multi-Family               Hail       Indoors   \n",
      "4           Arson  Dwelling: Multi-Family          Lightning       Indoors   \n",
      "\n",
      "      Property_Desc  Median Household Income  2010 Pop  \n",
      "0  Consumable Goods                  53462.0     47227  \n",
      "1  Consumable Goods                  53462.0     47227  \n",
      "2  Consumable Goods                  53462.0     47227  \n",
      "3        Structures                  61525.0     43931  \n",
      "4        Structures                  61525.0     43931  \n",
      "(3213, 7)\n"
     ]
    }
   ],
   "source": [
    "extreme_weather = extreme_weather[['Property_Crimes', 'Property_type', 'EVENT_TYPE', 'Location_Type', 'Property_Desc', 'Median Household Income', '2010 Pop']]\n",
    "print(extreme_weather.head())\n",
    "extreme_weather.dropna(inplace=True)\n",
    "extreme_weather.reset_index(drop=True, inplace=True)\n",
    "print(extreme_weather.shape)"
   ]
  },
  {
   "cell_type": "code",
   "execution_count": 12,
   "id": "a6fb8b5b-c515-4edf-9c60-005643976e79",
   "metadata": {
    "tags": []
   },
   "outputs": [],
   "source": [
    "extreme_weather = pd.get_dummies(extreme_weather, columns=['Property_type', 'EVENT_TYPE', 'Location_Type', 'Property_Desc'])\n"
   ]
  },
  {
   "cell_type": "code",
   "execution_count": 26,
   "id": "ed935a8e-96c8-4680-aa6e-9f94c2285873",
   "metadata": {
    "tags": []
   },
   "outputs": [
    {
     "name": "stdout",
     "output_type": "stream",
     "text": [
      "(643, 81)\n",
      "(2570, 81)\n"
     ]
    }
   ],
   "source": [
    "# create training and testing sets - 80/20\n",
    "from sklearn.model_selection import train_test_split\n",
    "crime_train, crime_test = train_test_split(extreme_weather, test_size =0.20)\n",
    "print(crime_test.shape)\n",
    "print(crime_train.shape)"
   ]
  },
  {
   "cell_type": "code",
   "execution_count": 27,
   "id": "b109da02-69b2-45c7-878e-5983ae0acf3a",
   "metadata": {},
   "outputs": [],
   "source": [
    "from sklearn.tree import DecisionTreeClassifier\n",
    "from sklearn.ensemble import RandomForestClassifier\n",
    "\n",
    "x = crime_train.drop(columns='Property_Crimes')\n",
    "y = crime_train['Property_Crimes']"
   ]
  },
  {
   "cell_type": "code",
   "execution_count": 28,
   "id": "33ff7552-29fe-4cb3-9d52-3a527e974e50",
   "metadata": {
    "tags": []
   },
   "outputs": [],
   "source": [
    "cart01 = DecisionTreeClassifier(max_leaf_nodes=10).fit(x,y) \n",
    "rf01 = RandomForestClassifier(n_estimators = 10,criterion=\"gini\").fit(x,y)"
   ]
  },
  {
   "cell_type": "code",
   "execution_count": 29,
   "id": "0f2344e2-dc2c-4b55-b0c6-2bb2b016d5aa",
   "metadata": {
    "tags": []
   },
   "outputs": [],
   "source": [
    "prediction_cart01 = cart01.predict(x)\n",
    "prediction_rf01 = rf01.predict(x)"
   ]
  },
  {
   "cell_type": "code",
   "execution_count": 30,
   "id": "450588f1-5b58-4db7-9e0a-1bd3f47df673",
   "metadata": {
    "tags": []
   },
   "outputs": [
    {
     "name": "stdout",
     "output_type": "stream",
     "text": [
      "2570\n"
     ]
    },
    {
     "data": {
      "text/plain": [
       "Burglary/B&E                                 0.589883\n",
       "Shoplifting                                  0.205447\n",
       "Motor Vehicle Theft                          0.143191\n",
       "Theft of Motor Vehicle Parts from Vehicle    0.054475\n",
       "Arson                                        0.004280\n",
       "Embezzlement                                 0.002724\n",
       "Name: Property_Crimes, dtype: float64"
      ]
     },
     "execution_count": 30,
     "metadata": {},
     "output_type": "execute_result"
    }
   ],
   "source": [
    "print(crime_train['Property_Crimes'].count())\n",
    "crime_train['Property_Crimes'].value_counts(normalize=True)"
   ]
  },
  {
   "cell_type": "code",
   "execution_count": 31,
   "id": "e4f7588a-b5f6-47a9-952f-b36dedfce432",
   "metadata": {
    "tags": []
   },
   "outputs": [],
   "source": [
    "# create a function that we can use to check how our predictions compare to the actual values\n",
    "def eval_prediction(pred, actual):\n",
    "    index = 0\n",
    "    correct = 0\n",
    "    for outcome in actual:\n",
    "        if pred[index] == outcome:\n",
    "            correct += 1\n",
    "\n",
    "        index+=1\n",
    "    return correct"
   ]
  },
  {
   "cell_type": "code",
   "execution_count": 32,
   "id": "2862bcab-eeba-439b-9cb6-f6127104e831",
   "metadata": {
    "tags": []
   },
   "outputs": [
    {
     "name": "stdout",
     "output_type": "stream",
     "text": [
      "CART: 2118\n",
      "Random Forest: 2448\n"
     ]
    }
   ],
   "source": [
    "#Using the evaluation function to see how many we got correct for each model \n",
    "print(\"CART:\", eval_prediction(prediction_cart01, y))\n",
    "print(\"Random Forest:\", eval_prediction(prediction_rf01, y))"
   ]
  },
  {
   "cell_type": "code",
   "execution_count": 33,
   "id": "edafcf68-d4bd-42b3-a88b-dc25917555c5",
   "metadata": {
    "tags": []
   },
   "outputs": [
    {
     "name": "stdout",
     "output_type": "stream",
     "text": [
      "CART: 82.41 %\n",
      "Random Forest: 95.25 %\n"
     ]
    }
   ],
   "source": [
    "print(\"CART:\", '{0:.2f}'.format((eval_prediction(prediction_cart01, y)/len(x))*100),\"%\")\n",
    "print(\"Random Forest:\", '{0:.2f}'.format((eval_prediction(prediction_rf01, y)/len(x))*100),\"%\")"
   ]
  },
  {
   "cell_type": "code",
   "execution_count": 34,
   "id": "cd44daf7-4859-4884-9cdc-42eca1091edc",
   "metadata": {
    "tags": []
   },
   "outputs": [
    {
     "name": "stdout",
     "output_type": "stream",
     "text": [
      "0.8771384136858476\n",
      "0.8087091757387247\n"
     ]
    }
   ],
   "source": [
    "# Now we would want to see how well our models perfom on the testing set\n",
    "x_test = crime_test.drop(columns='Property_Crimes')\n",
    "y_test = crime_test['Property_Crimes']\n",
    "\n",
    "\n",
    "print(rf01.score(x_test,y_test))\n",
    "print(cart01.score(x_test,y_test))"
   ]
  },
  {
   "cell_type": "code",
   "execution_count": 36,
   "id": "26ff35c3-ff5b-4c20-b0f0-4f4f592cf1d2",
   "metadata": {
    "tags": []
   },
   "outputs": [],
   "source": [
    "#After further evaluation, Our random forest model is performing significantly higher than our cart model. \n",
    "#The Random Forest model is performing significantly higher than the Cart model, but that is to be expected as the Random Forest model is much more complex.\n",
    "#The Cart model on the other hand, helps us better understand whether or not our variables are improving the accuracy of our predictions because of its simplicity.\n",
    "\n"
   ]
  },
  {
   "cell_type": "code",
   "execution_count": null,
   "id": "15bfcac4-429c-4807-a69e-1ffafcec071a",
   "metadata": {},
   "outputs": [],
   "source": []
  }
 ],
 "metadata": {
  "kernelspec": {
   "display_name": "Python 3 (ipykernel)",
   "language": "python",
   "name": "python3"
  },
  "language_info": {
   "codemirror_mode": {
    "name": "ipython",
    "version": 3
   },
   "file_extension": ".py",
   "mimetype": "text/x-python",
   "name": "python",
   "nbconvert_exporter": "python",
   "pygments_lexer": "ipython3",
   "version": "3.11.4"
  }
 },
 "nbformat": 4,
 "nbformat_minor": 5
}
