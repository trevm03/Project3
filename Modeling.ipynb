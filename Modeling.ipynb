{
 "cells": [
  {
   "cell_type": "code",
   "execution_count": 44,
   "id": "a294c64e-ed08-4227-90de-7b5222425e71",
   "metadata": {
    "tags": []
   },
   "outputs": [
    {
     "data": {
      "text/html": [
       "<div>\n",
       "<style scoped>\n",
       "    .dataframe tbody tr th:only-of-type {\n",
       "        vertical-align: middle;\n",
       "    }\n",
       "\n",
       "    .dataframe tbody tr th {\n",
       "        vertical-align: top;\n",
       "    }\n",
       "\n",
       "    .dataframe thead th {\n",
       "        text-align: right;\n",
       "    }\n",
       "</style>\n",
       "<table border=\"1\" class=\"dataframe\">\n",
       "  <thead>\n",
       "    <tr style=\"text-align: right;\">\n",
       "      <th></th>\n",
       "      <th>Unnamed: 0</th>\n",
       "      <th>Complaint_No</th>\n",
       "      <th>Property_Crimes</th>\n",
       "      <th>Location_Type</th>\n",
       "      <th>Zipcode</th>\n",
       "      <th>Property_No</th>\n",
       "      <th>Property_type</th>\n",
       "      <th>Property_Desc</th>\n",
       "      <th>2010 Pop</th>\n",
       "      <th>Median Household Income</th>\n",
       "      <th>...</th>\n",
       "      <th>Victim_Gender</th>\n",
       "      <th>Victim_Ethnic</th>\n",
       "      <th>DATE</th>\n",
       "      <th>EVENT_TYPE</th>\n",
       "      <th>BEGIN_LAT</th>\n",
       "      <th>BEGIN_LON</th>\n",
       "      <th>END_LAT</th>\n",
       "      <th>END_LON</th>\n",
       "      <th>time_diff</th>\n",
       "      <th>weather_id</th>\n",
       "    </tr>\n",
       "  </thead>\n",
       "  <tbody>\n",
       "    <tr>\n",
       "      <th>0</th>\n",
       "      <td>5810</td>\n",
       "      <td>20120701220002</td>\n",
       "      <td>Shoplifting</td>\n",
       "      <td>Indoors</td>\n",
       "      <td>28216</td>\n",
       "      <td>1.0</td>\n",
       "      <td>Alcoholic Beverage</td>\n",
       "      <td>Consumable Goods</td>\n",
       "      <td>47227</td>\n",
       "      <td>53462.0</td>\n",
       "      <td>...</td>\n",
       "      <td>NaN</td>\n",
       "      <td>NaN</td>\n",
       "      <td>2012-07-01</td>\n",
       "      <td>Hail</td>\n",
       "      <td>35.133333</td>\n",
       "      <td>-80.740767</td>\n",
       "      <td>35.133333</td>\n",
       "      <td>-80.740767</td>\n",
       "      <td>0 days 00:16:00</td>\n",
       "      <td>30.0</td>\n",
       "    </tr>\n",
       "    <tr>\n",
       "      <th>1</th>\n",
       "      <td>5811</td>\n",
       "      <td>20120701220002</td>\n",
       "      <td>Shoplifting</td>\n",
       "      <td>Indoors</td>\n",
       "      <td>28216</td>\n",
       "      <td>1.0</td>\n",
       "      <td>Alcoholic Beverage</td>\n",
       "      <td>Consumable Goods</td>\n",
       "      <td>47227</td>\n",
       "      <td>53462.0</td>\n",
       "      <td>...</td>\n",
       "      <td>NaN</td>\n",
       "      <td>NaN</td>\n",
       "      <td>2012-07-01</td>\n",
       "      <td>Lightning</td>\n",
       "      <td>35.340000</td>\n",
       "      <td>-80.810000</td>\n",
       "      <td>35.340000</td>\n",
       "      <td>-80.810000</td>\n",
       "      <td>0 days 00:15:00</td>\n",
       "      <td>59.0</td>\n",
       "    </tr>\n",
       "    <tr>\n",
       "      <th>2</th>\n",
       "      <td>5812</td>\n",
       "      <td>20120701220002</td>\n",
       "      <td>Shoplifting</td>\n",
       "      <td>Indoors</td>\n",
       "      <td>28216</td>\n",
       "      <td>1.0</td>\n",
       "      <td>Alcoholic Beverage</td>\n",
       "      <td>Consumable Goods</td>\n",
       "      <td>47227</td>\n",
       "      <td>53462.0</td>\n",
       "      <td>...</td>\n",
       "      <td>NaN</td>\n",
       "      <td>NaN</td>\n",
       "      <td>2012-07-01</td>\n",
       "      <td>Thunderstorm Wind</td>\n",
       "      <td>35.320000</td>\n",
       "      <td>-80.800000</td>\n",
       "      <td>35.180000</td>\n",
       "      <td>-80.655000</td>\n",
       "      <td>0 days 00:19:00</td>\n",
       "      <td>82.0</td>\n",
       "    </tr>\n",
       "    <tr>\n",
       "      <th>3</th>\n",
       "      <td>5816</td>\n",
       "      <td>20120701224501</td>\n",
       "      <td>Arson</td>\n",
       "      <td>Indoors</td>\n",
       "      <td>28205</td>\n",
       "      <td>1.0</td>\n",
       "      <td>Dwelling: Multi-Family</td>\n",
       "      <td>Structures</td>\n",
       "      <td>43931</td>\n",
       "      <td>61525.0</td>\n",
       "      <td>...</td>\n",
       "      <td>F</td>\n",
       "      <td>Black                          Other/Not Listed</td>\n",
       "      <td>2012-07-01</td>\n",
       "      <td>Hail</td>\n",
       "      <td>35.133333</td>\n",
       "      <td>-80.740767</td>\n",
       "      <td>35.133333</td>\n",
       "      <td>-80.740767</td>\n",
       "      <td>0 days 00:16:00</td>\n",
       "      <td>30.0</td>\n",
       "    </tr>\n",
       "    <tr>\n",
       "      <th>4</th>\n",
       "      <td>5817</td>\n",
       "      <td>20120701224501</td>\n",
       "      <td>Arson</td>\n",
       "      <td>Indoors</td>\n",
       "      <td>28205</td>\n",
       "      <td>1.0</td>\n",
       "      <td>Dwelling: Multi-Family</td>\n",
       "      <td>Structures</td>\n",
       "      <td>43931</td>\n",
       "      <td>61525.0</td>\n",
       "      <td>...</td>\n",
       "      <td>F</td>\n",
       "      <td>Black                          Other/Not Listed</td>\n",
       "      <td>2012-07-01</td>\n",
       "      <td>Lightning</td>\n",
       "      <td>35.340000</td>\n",
       "      <td>-80.810000</td>\n",
       "      <td>35.340000</td>\n",
       "      <td>-80.810000</td>\n",
       "      <td>0 days 00:15:00</td>\n",
       "      <td>59.0</td>\n",
       "    </tr>\n",
       "  </tbody>\n",
       "</table>\n",
       "<p>5 rows × 21 columns</p>\n",
       "</div>"
      ],
      "text/plain": [
       "   Unnamed: 0    Complaint_No Property_Crimes Location_Type  Zipcode  \\\n",
       "0        5810  20120701220002     Shoplifting       Indoors    28216   \n",
       "1        5811  20120701220002     Shoplifting       Indoors    28216   \n",
       "2        5812  20120701220002     Shoplifting       Indoors    28216   \n",
       "3        5816  20120701224501           Arson       Indoors    28205   \n",
       "4        5817  20120701224501           Arson       Indoors    28205   \n",
       "\n",
       "   Property_No           Property_type     Property_Desc  2010 Pop  \\\n",
       "0          1.0      Alcoholic Beverage  Consumable Goods     47227   \n",
       "1          1.0      Alcoholic Beverage  Consumable Goods     47227   \n",
       "2          1.0      Alcoholic Beverage  Consumable Goods     47227   \n",
       "3          1.0  Dwelling: Multi-Family        Structures     43931   \n",
       "4          1.0  Dwelling: Multi-Family        Structures     43931   \n",
       "\n",
       "   Median Household Income  ...  Victim_Gender  \\\n",
       "0                  53462.0  ...            NaN   \n",
       "1                  53462.0  ...            NaN   \n",
       "2                  53462.0  ...            NaN   \n",
       "3                  61525.0  ...              F   \n",
       "4                  61525.0  ...              F   \n",
       "\n",
       "                                     Victim_Ethnic        DATE  \\\n",
       "0                                              NaN  2012-07-01   \n",
       "1                                              NaN  2012-07-01   \n",
       "2                                              NaN  2012-07-01   \n",
       "3  Black                          Other/Not Listed  2012-07-01   \n",
       "4  Black                          Other/Not Listed  2012-07-01   \n",
       "\n",
       "          EVENT_TYPE  BEGIN_LAT  BEGIN_LON    END_LAT    END_LON  \\\n",
       "0               Hail  35.133333 -80.740767  35.133333 -80.740767   \n",
       "1          Lightning  35.340000 -80.810000  35.340000 -80.810000   \n",
       "2  Thunderstorm Wind  35.320000 -80.800000  35.180000 -80.655000   \n",
       "3               Hail  35.133333 -80.740767  35.133333 -80.740767   \n",
       "4          Lightning  35.340000 -80.810000  35.340000 -80.810000   \n",
       "\n",
       "         time_diff weather_id  \n",
       "0  0 days 00:16:00       30.0  \n",
       "1  0 days 00:15:00       59.0  \n",
       "2  0 days 00:19:00       82.0  \n",
       "3  0 days 00:16:00       30.0  \n",
       "4  0 days 00:15:00       59.0  \n",
       "\n",
       "[5 rows x 21 columns]"
      ]
     },
     "execution_count": 44,
     "metadata": {},
     "output_type": "execute_result"
    }
   ],
   "source": [
    "import pandas as pd\n",
    "# Read dataset\n",
    "extreme_weather = pd.read_csv('crime_extreme_weather_CLEANED.csv')\n",
    "\n",
    "extreme_weather.head()"
   ]
  },
  {
   "cell_type": "code",
   "execution_count": 45,
   "id": "bfcf9b30-ef58-4bdd-91ea-1d38ed5be13a",
   "metadata": {
    "tags": []
   },
   "outputs": [
    {
     "name": "stdout",
     "output_type": "stream",
     "text": [
      "  Property_Crimes           Property_type         EVENT_TYPE Location_Type  \\\n",
      "0     Shoplifting      Alcoholic Beverage               Hail       Indoors   \n",
      "1     Shoplifting      Alcoholic Beverage          Lightning       Indoors   \n",
      "2     Shoplifting      Alcoholic Beverage  Thunderstorm Wind       Indoors   \n",
      "3           Arson  Dwelling: Multi-Family               Hail       Indoors   \n",
      "4           Arson  Dwelling: Multi-Family          Lightning       Indoors   \n",
      "\n",
      "      Property_Desc  Median Household Income  2010 Pop  Victim_Age  \\\n",
      "0  Consumable Goods                  53462.0     47227         NaN   \n",
      "1  Consumable Goods                  53462.0     47227         NaN   \n",
      "2  Consumable Goods                  53462.0     47227         NaN   \n",
      "3        Structures                  61525.0     43931        42.0   \n",
      "4        Structures                  61525.0     43931        42.0   \n",
      "\n",
      "  Victim_Gender                                    Victim_Ethnic  \n",
      "0           NaN                                              NaN  \n",
      "1           NaN                                              NaN  \n",
      "2           NaN                                              NaN  \n",
      "3             F  Black                          Other/Not Listed  \n",
      "4             F  Black                          Other/Not Listed  \n",
      "(2483, 10)\n"
     ]
    }
   ],
   "source": [
    "extreme_weather = extreme_weather[['Property_Crimes', 'Property_type', 'EVENT_TYPE', 'Location_Type', 'Property_Desc', 'Median Household Income', '2010 Pop', 'Victim_Age', 'Victim_Gender', 'Victim_Ethnic']]\n",
    "print(extreme_weather.head())\n",
    "extreme_weather.dropna(inplace=True)\n",
    "extreme_weather.reset_index(drop=True, inplace=True)\n",
    "print(extreme_weather.shape)"
   ]
  },
  {
   "cell_type": "code",
   "execution_count": 46,
   "id": "a6fb8b5b-c515-4edf-9c60-005643976e79",
   "metadata": {
    "tags": []
   },
   "outputs": [],
   "source": [
    "extreme_weather = pd.get_dummies(extreme_weather, columns=['Property_type', 'EVENT_TYPE', 'Location_Type', 'Property_Desc', 'Victim_Gender', 'Victim_Ethnic'])\n"
   ]
  },
  {
   "cell_type": "code",
   "execution_count": 47,
   "id": "ed935a8e-96c8-4680-aa6e-9f94c2285873",
   "metadata": {
    "tags": []
   },
   "outputs": [
    {
     "name": "stdout",
     "output_type": "stream",
     "text": [
      "(497, 89)\n",
      "(1986, 89)\n"
     ]
    }
   ],
   "source": [
    "# create training and testing sets - 80/20\n",
    "from sklearn.model_selection import train_test_split\n",
    "crime_train, crime_test = train_test_split(extreme_weather, test_size =0.20)\n",
    "print(crime_test.shape)\n",
    "print(crime_train.shape)"
   ]
  },
  {
   "cell_type": "code",
   "execution_count": 48,
   "id": "b109da02-69b2-45c7-878e-5983ae0acf3a",
   "metadata": {},
   "outputs": [],
   "source": [
    "from sklearn.tree import DecisionTreeClassifier\n",
    "from sklearn.ensemble import RandomForestClassifier\n",
    "\n",
    "x = crime_train.drop(columns='Property_Crimes')\n",
    "y = crime_train['Property_Crimes']"
   ]
  },
  {
   "cell_type": "code",
   "execution_count": 49,
   "id": "33ff7552-29fe-4cb3-9d52-3a527e974e50",
   "metadata": {
    "tags": []
   },
   "outputs": [],
   "source": [
    "cart01 = DecisionTreeClassifier(max_leaf_nodes=10).fit(x,y) \n",
    "rf01 = RandomForestClassifier(n_estimators = 10,criterion=\"gini\").fit(x,y)"
   ]
  },
  {
   "cell_type": "code",
   "execution_count": 50,
   "id": "0f2344e2-dc2c-4b55-b0c6-2bb2b016d5aa",
   "metadata": {
    "tags": []
   },
   "outputs": [],
   "source": [
    "prediction_cart01 = cart01.predict(x)\n",
    "prediction_rf01 = rf01.predict(x)"
   ]
  },
  {
   "cell_type": "code",
   "execution_count": 51,
   "id": "450588f1-5b58-4db7-9e0a-1bd3f47df673",
   "metadata": {
    "tags": []
   },
   "outputs": [
    {
     "name": "stdout",
     "output_type": "stream",
     "text": [
      "1986\n"
     ]
    },
    {
     "data": {
      "text/plain": [
       "Burglary/B&E                                 0.790030\n",
       "Motor Vehicle Theft                          0.165156\n",
       "Theft of Motor Vehicle Parts from Vehicle    0.037261\n",
       "Arson                                        0.006546\n",
       "Shoplifting                                  0.001007\n",
       "Name: Property_Crimes, dtype: float64"
      ]
     },
     "execution_count": 51,
     "metadata": {},
     "output_type": "execute_result"
    }
   ],
   "source": [
    "print(crime_train['Property_Crimes'].count())\n",
    "crime_train['Property_Crimes'].value_counts(normalize=True)"
   ]
  },
  {
   "cell_type": "code",
   "execution_count": 52,
   "id": "e4f7588a-b5f6-47a9-952f-b36dedfce432",
   "metadata": {
    "tags": []
   },
   "outputs": [],
   "source": [
    "# create a function that we can use to check how our predictions compare to the actual values\n",
    "def eval_prediction(pred, actual):\n",
    "    index = 0\n",
    "    correct = 0\n",
    "    for outcome in actual:\n",
    "        if pred[index] == outcome:\n",
    "            correct += 1\n",
    "\n",
    "        index+=1\n",
    "    return correct"
   ]
  },
  {
   "cell_type": "code",
   "execution_count": 53,
   "id": "2862bcab-eeba-439b-9cb6-f6127104e831",
   "metadata": {
    "tags": []
   },
   "outputs": [
    {
     "name": "stdout",
     "output_type": "stream",
     "text": [
      "CART: 1893\n",
      "Random Forest: 1985\n"
     ]
    }
   ],
   "source": [
    "#Using the evaluation function to see how many we got correct for each model \n",
    "print(\"CART:\", eval_prediction(prediction_cart01, y))\n",
    "print(\"Random Forest:\", eval_prediction(prediction_rf01, y))"
   ]
  },
  {
   "cell_type": "code",
   "execution_count": 54,
   "id": "edafcf68-d4bd-42b3-a88b-dc25917555c5",
   "metadata": {
    "tags": []
   },
   "outputs": [
    {
     "name": "stdout",
     "output_type": "stream",
     "text": [
      "CART: 95.32 %\n",
      "Random Forest: 99.95 %\n"
     ]
    }
   ],
   "source": [
    "print(\"CART:\", '{0:.2f}'.format((eval_prediction(prediction_cart01, y)/len(x))*100),\"%\")\n",
    "print(\"Random Forest:\", '{0:.2f}'.format((eval_prediction(prediction_rf01, y)/len(x))*100),\"%\")"
   ]
  },
  {
   "cell_type": "code",
   "execution_count": 55,
   "id": "cd44daf7-4859-4884-9cdc-42eca1091edc",
   "metadata": {
    "tags": []
   },
   "outputs": [
    {
     "name": "stdout",
     "output_type": "stream",
     "text": [
      "0.9818913480885312\n",
      "0.9577464788732394\n"
     ]
    }
   ],
   "source": [
    "# Now we would want to see how well our models perfom on the testing set\n",
    "x_test = crime_test.drop(columns='Property_Crimes')\n",
    "y_test = crime_test['Property_Crimes']\n",
    "\n",
    "\n",
    "print(rf01.score(x_test,y_test))\n",
    "print(cart01.score(x_test,y_test))"
   ]
  },
  {
   "cell_type": "code",
   "execution_count": 36,
   "id": "26ff35c3-ff5b-4c20-b0f0-4f4f592cf1d2",
   "metadata": {
    "tags": []
   },
   "outputs": [],
   "source": [
    "#After further evaluation, Our random forest model is performing significantly higher than our cart model. \n",
    "#The Random Forest model is performing significantly higher than the Cart model, but that is to be expected as the Random Forest model is much more complex.\n",
    "#The Cart model on the other hand, helps us better understand whether or not our variables are improving the accuracy of our predictions because of its simplicity.\n",
    "\n"
   ]
  },
  {
   "cell_type": "code",
   "execution_count": 56,
   "id": "15bfcac4-429c-4807-a69e-1ffafcec071a",
   "metadata": {
    "tags": []
   },
   "outputs": [
    {
     "name": "stdout",
     "output_type": "stream",
     "text": [
      "0.31017119838872104\n",
      "0.3460764587525151\n"
     ]
    }
   ],
   "source": [
    "from sklearn.naive_bayes import MultinomialNB\n",
    "nb_model = MultinomialNB() \n",
    "nb_model.fit(x, y)\n",
    "\n",
    "print(nb_model.score(x,y))\n",
    "print(nb_model.score(x_test,y_test))"
   ]
  },
  {
   "cell_type": "code",
   "execution_count": 57,
   "id": "22dce9ea-8ad3-437c-89be-f5245d78781c",
   "metadata": {
    "tags": []
   },
   "outputs": [
    {
     "data": {
      "text/html": [
       "<div>\n",
       "<style scoped>\n",
       "    .dataframe tbody tr th:only-of-type {\n",
       "        vertical-align: middle;\n",
       "    }\n",
       "\n",
       "    .dataframe tbody tr th {\n",
       "        vertical-align: top;\n",
       "    }\n",
       "\n",
       "    .dataframe thead th {\n",
       "        text-align: right;\n",
       "    }\n",
       "</style>\n",
       "<table border=\"1\" class=\"dataframe\">\n",
       "  <thead>\n",
       "    <tr style=\"text-align: right;\">\n",
       "      <th>Predicted</th>\n",
       "      <th>Arson</th>\n",
       "      <th>Burglary/B&amp;E</th>\n",
       "      <th>Shoplifting</th>\n",
       "      <th>Theft of Motor Vehicle Parts from Vehicle</th>\n",
       "      <th>Total</th>\n",
       "    </tr>\n",
       "    <tr>\n",
       "      <th>Actual</th>\n",
       "      <th></th>\n",
       "      <th></th>\n",
       "      <th></th>\n",
       "      <th></th>\n",
       "      <th></th>\n",
       "    </tr>\n",
       "  </thead>\n",
       "  <tbody>\n",
       "    <tr>\n",
       "      <th>Arson</th>\n",
       "      <td>3</td>\n",
       "      <td>0</td>\n",
       "      <td>0</td>\n",
       "      <td>0</td>\n",
       "      <td>3</td>\n",
       "    </tr>\n",
       "    <tr>\n",
       "      <th>Burglary/B&amp;E</th>\n",
       "      <td>115</td>\n",
       "      <td>169</td>\n",
       "      <td>93</td>\n",
       "      <td>6</td>\n",
       "      <td>383</td>\n",
       "    </tr>\n",
       "    <tr>\n",
       "      <th>Motor Vehicle Theft</th>\n",
       "      <td>61</td>\n",
       "      <td>0</td>\n",
       "      <td>29</td>\n",
       "      <td>2</td>\n",
       "      <td>92</td>\n",
       "    </tr>\n",
       "    <tr>\n",
       "      <th>Theft of Motor Vehicle Parts from Vehicle</th>\n",
       "      <td>10</td>\n",
       "      <td>0</td>\n",
       "      <td>9</td>\n",
       "      <td>0</td>\n",
       "      <td>19</td>\n",
       "    </tr>\n",
       "    <tr>\n",
       "      <th>Total</th>\n",
       "      <td>189</td>\n",
       "      <td>169</td>\n",
       "      <td>131</td>\n",
       "      <td>8</td>\n",
       "      <td>497</td>\n",
       "    </tr>\n",
       "  </tbody>\n",
       "</table>\n",
       "</div>"
      ],
      "text/plain": [
       "Predicted                                  Arson  Burglary/B&E  Shoplifting  \\\n",
       "Actual                                                                        \n",
       "Arson                                          3             0            0   \n",
       "Burglary/B&E                                 115           169           93   \n",
       "Motor Vehicle Theft                           61             0           29   \n",
       "Theft of Motor Vehicle Parts from Vehicle     10             0            9   \n",
       "Total                                        189           169          131   \n",
       "\n",
       "Predicted                                  Theft of Motor Vehicle Parts from Vehicle  \\\n",
       "Actual                                                                                 \n",
       "Arson                                                                              0   \n",
       "Burglary/B&E                                                                       6   \n",
       "Motor Vehicle Theft                                                                2   \n",
       "Theft of Motor Vehicle Parts from Vehicle                                          0   \n",
       "Total                                                                              8   \n",
       "\n",
       "Predicted                                  Total  \n",
       "Actual                                            \n",
       "Arson                                          3  \n",
       "Burglary/B&E                                 383  \n",
       "Motor Vehicle Theft                           92  \n",
       "Theft of Motor Vehicle Parts from Vehicle     19  \n",
       "Total                                        497  "
      ]
     },
     "execution_count": 57,
     "metadata": {},
     "output_type": "execute_result"
    }
   ],
   "source": [
    "y_predicted = nb_model.predict(x_test)\n",
    "ypred = pd.crosstab(y_test, y_predicted, rownames = ['Actual'], colnames = ['Predicted'])\n",
    "ypred['Total'] = ypred.sum(axis=1) \n",
    "ypred.loc['Total'] = ypred.sum()\n",
    "ypred"
   ]
  },
  {
   "cell_type": "code",
   "execution_count": null,
   "id": "1eadada6-ddf6-4ff8-816d-1192547fbde1",
   "metadata": {},
   "outputs": [],
   "source": []
  }
 ],
 "metadata": {
  "kernelspec": {
   "display_name": "Python 3 (ipykernel)",
   "language": "python",
   "name": "python3"
  },
  "language_info": {
   "codemirror_mode": {
    "name": "ipython",
    "version": 3
   },
   "file_extension": ".py",
   "mimetype": "text/x-python",
   "name": "python",
   "nbconvert_exporter": "python",
   "pygments_lexer": "ipython3",
   "version": "3.11.4"
  }
 },
 "nbformat": 4,
 "nbformat_minor": 5
}
